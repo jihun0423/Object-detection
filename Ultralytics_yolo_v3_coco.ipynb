{
  "nbformat": 4,
  "nbformat_minor": 0,
  "metadata": {
    "kernelspec": {
      "display_name": "Python 3",
      "name": "python3"
    },
    "language_info": {
      "pygments_lexer": "ipython3",
      "nbconvert_exporter": "python",
      "version": "3.6.4",
      "file_extension": ".py",
      "codemirror_mode": {
        "name": "ipython",
        "version": 3
      },
      "name": "python",
      "mimetype": "text/x-python"
    },
    "colab": {
      "provenance": [],
      "gpuType": "V100",
      "include_colab_link": true
    },
    "accelerator": "GPU"
  },
  "cells": [
    {
      "cell_type": "markdown",
      "metadata": {
        "id": "view-in-github",
        "colab_type": "text"
      },
      "source": [
        "<a href=\"https://colab.research.google.com/github/jihun0423/Object-detection/blob/main/Ultralytics_yolo_v3_coco.ipynb\" target=\"_parent\"><img src=\"https://colab.research.google.com/assets/colab-badge.svg\" alt=\"Open In Colab\"/></a>"
      ]
    },
    {
      "cell_type": "markdown",
      "metadata": {
        "id": "ZPvjfCWE2KFj"
      },
      "source": [
        "### Ultralytics Yolo v3 설치"
      ]
    },
    {
      "cell_type": "code",
      "metadata": {
        "_uuid": "8f2839f25d086af736a60e9eeb907d3b93b6e0e5",
        "_cell_guid": "b1076dfc-b9ad-4769-8c92-a6c4dae69d19",
        "trusted": true,
        "id": "I_Ua0GO8Sa5s",
        "colab": {
          "base_uri": "https://localhost:8080/"
        },
        "outputId": "570f7393-16ba-480f-e5f1-a0359f4ec4a3"
      },
      "source": [
        "!git clone https://github.com/ultralytics/yolov3\n",
        "!cd yolov3;pip install -qr requirements.txt"
      ],
      "execution_count": null,
      "outputs": [
        {
          "output_type": "stream",
          "name": "stdout",
          "text": [
            "Cloning into 'yolov3'...\n",
            "remote: Enumerating objects: 10843, done.\u001b[K\n",
            "remote: Counting objects: 100% (765/765), done.\u001b[K\n",
            "remote: Compressing objects: 100% (404/404), done.\u001b[K\n",
            "remote: Total 10843 (delta 501), reused 573 (delta 360), pack-reused 10078\u001b[K\n",
            "Receiving objects: 100% (10843/10843), 9.87 MiB | 10.36 MiB/s, done.\n",
            "Resolving deltas: 100% (7300/7300), done.\n",
            "\u001b[2K     \u001b[90m━━━━━━━━━━━━━━━━━━━━━━━━━━━━━━━━━━━━━━━\u001b[0m \u001b[32m188.5/188.5 kB\u001b[0m \u001b[31m4.6 MB/s\u001b[0m eta \u001b[36m0:00:00\u001b[0m\n",
            "\u001b[2K     \u001b[90m━━━━━━━━━━━━━━━━━━━━━━━━━━━━━━━━━━━━━━\u001b[0m \u001b[32m613.0/613.0 kB\u001b[0m \u001b[31m16.5 MB/s\u001b[0m eta \u001b[36m0:00:00\u001b[0m\n",
            "\u001b[2K     \u001b[90m━━━━━━━━━━━━━━━━━━━━━━━━━━━━━━━━━━━━━━━━\u001b[0m \u001b[32m62.7/62.7 kB\u001b[0m \u001b[31m8.0 MB/s\u001b[0m eta \u001b[36m0:00:00\u001b[0m\n",
            "\u001b[?25h"
          ]
        }
      ]
    },
    {
      "cell_type": "code",
      "metadata": {
        "trusted": true,
        "id": "b1xaZlnSSa53",
        "colab": {
          "base_uri": "https://localhost:8080/"
        },
        "outputId": "22bacaef-c770-4185-847c-11792a87f445"
      },
      "source": [
        "import torch\n",
        "from IPython.display import Image, clear_output  # to display images\n",
        "\n",
        "clear_output()\n",
        "print(f\"Setup complete. Using torch {torch.__version__} ({torch.cuda.get_device_properties(0).name if torch.cuda.is_available() else 'CPU'})\")"
      ],
      "execution_count": null,
      "outputs": [
        {
          "output_type": "stream",
          "name": "stdout",
          "text": [
            "Setup complete. Using torch 2.0.1+cu118 (Tesla V100-SXM2-16GB)\n"
          ]
        }
      ]
    },
    {
      "cell_type": "code",
      "metadata": {
        "id": "2wuNsf3fL2kD",
        "colab": {
          "base_uri": "https://localhost:8080/"
        },
        "outputId": "28b7dccb-e927-4041-bdc4-90d5d18ebf32"
      },
      "source": [
        "%cd yolov3\n",
        "!python train.py --img 640 --batch 16 --epochs 3 --data coco128.yaml --weights yolov3.pt --nosave"
      ],
      "execution_count": null,
      "outputs": [
        {
          "output_type": "stream",
          "name": "stdout",
          "text": [
            "/content/yolov3\n",
            "\u001b[34m\u001b[1mtrain: \u001b[0mweights=yolov3.pt, cfg=, data=coco128.yaml, hyp=data/hyps/hyp.scratch-low.yaml, epochs=3, batch_size=16, imgsz=640, rect=False, resume=False, nosave=True, noval=False, noautoanchor=False, noplots=False, evolve=None, bucket=, cache=None, image_weights=False, device=, multi_scale=False, single_cls=False, optimizer=SGD, sync_bn=False, workers=8, project=runs/train, name=exp, exist_ok=False, quad=False, cos_lr=False, label_smoothing=0.0, patience=100, freeze=[0], save_period=-1, seed=0, local_rank=-1, entity=None, upload_dataset=False, bbox_interval=-1, artifact_alias=latest\n",
            "remote: Enumerating objects: 15921, done.\u001b[K\n",
            "remote: Counting objects: 100% (41/41), done.\u001b[K\n",
            "remote: Compressing objects: 100% (28/28), done.\u001b[K\n",
            "remote: Total 15921 (delta 17), reused 25 (delta 13), pack-reused 15880\u001b[K\n",
            "Receiving objects: 100% (15921/15921), 14.66 MiB | 19.17 MiB/s, done.\n",
            "Resolving deltas: 100% (10916/10916), done.\n",
            "From https://github.com/ultralytics/yolov5\n",
            " * [new branch]        add/weights_dir   -> ultralytics/add/weights_dir\n",
            " * [new branch]        benchmarks        -> ultralytics/benchmarks\n",
            " * [new branch]        exp/scaleFill     -> ultralytics/exp/scaleFill\n",
            " * [new branch]        exp12             -> ultralytics/exp12\n",
            " * [new branch]        exp13             -> ultralytics/exp13\n",
            " * [new branch]        exp13-nosoft      -> ultralytics/exp13-nosoft\n",
            " * [new branch]        exp13-soft        -> ultralytics/exp13-soft\n",
            " * [new branch]        fix/rgb_albumentations -> ultralytics/fix/rgb_albumentations\n",
            " * [new branch]        ghost             -> ultralytics/ghost\n",
            " * [new branch]        master            -> ultralytics/master\n",
            " * [new branch]        study_activations -> ultralytics/study_activations\n",
            " * [new branch]        ultralytics/HUB   -> ultralytics/ultralytics/HUB\n",
            " * [new branch]        update/cls-album  -> ultralytics/update/cls-album\n",
            " * [new branch]        update/textlogger -> ultralytics/update/textlogger\n",
            " * [new branch]        update/threaded   -> ultralytics/update/threaded\n",
            " * [new tag]           v3.1              -> v3.1\n",
            " * [new tag]           v4.0              -> v4.0\n",
            " * [new tag]           v5.0              -> v5.0\n",
            " * [new tag]           v6.0              -> v6.0\n",
            " * [new tag]           v6.1              -> v6.1\n",
            " * [new tag]           v6.2              -> v6.2\n",
            " * [new tag]           v7.0              -> v7.0\n",
            "\u001b[34m\u001b[1mgithub: \u001b[0m⚠️ YOLOv3 is out of date by 2694 commits. Use 'git pull ultralytics master' or 'git clone https://github.com/ultralytics/yolov5' to update.\n",
            "YOLOv3 🚀 v9.6.0-105-g44cb63f6 Python-3.10.12 torch-2.0.1+cu118 CUDA:0 (Tesla V100-SXM2-16GB, 16151MiB)\n",
            "\n",
            "\u001b[34m\u001b[1mhyperparameters: \u001b[0mlr0=0.01, lrf=0.01, momentum=0.937, weight_decay=0.0005, warmup_epochs=3.0, warmup_momentum=0.8, warmup_bias_lr=0.1, box=0.05, cls=0.5, cls_pw=1.0, obj=1.0, obj_pw=1.0, iou_t=0.2, anchor_t=4.0, fl_gamma=0.0, hsv_h=0.015, hsv_s=0.7, hsv_v=0.4, degrees=0.0, translate=0.1, scale=0.5, shear=0.0, perspective=0.0, flipud=0.0, fliplr=0.5, mosaic=1.0, mixup=0.0, copy_paste=0.0\n",
            "\u001b[34m\u001b[1mComet: \u001b[0mrun 'pip install comet_ml' to automatically track and visualize YOLOv3 🚀 runs in Comet\n",
            "\u001b[34m\u001b[1mTensorBoard: \u001b[0mStart with 'tensorboard --logdir runs/train', view at http://localhost:6006/\n",
            "\n",
            "Dataset not found ⚠️, missing paths ['/content/datasets/coco128/images/train2017']\n",
            "Downloading https://ultralytics.com/assets/coco128.zip to coco128.zip...\n",
            "100% 6.66M/6.66M [00:00<00:00, 49.7MB/s]\n",
            "Dataset download success ✅ (0.7s), saved to \u001b[1m/content/datasets\u001b[0m\n",
            "Downloading https://ultralytics.com/assets/Arial.ttf to /root/.config/Ultralytics/Arial.ttf...\n",
            "100% 755k/755k [00:00<00:00, 45.3MB/s]\n",
            "Downloading https://github.com/ultralytics/yolov5/releases/download/v7.0/yolov3.pt to yolov3.pt...\n",
            "100% 119M/119M [00:02<00:00, 51.1MB/s]\n",
            "\n",
            "\n",
            "                 from  n    params  module                                  arguments                     \n",
            "  0                -1  1       928  models.common.Conv                      [3, 32, 3, 1]                 \n",
            "  1                -1  1     18560  models.common.Conv                      [32, 64, 3, 2]                \n",
            "  2                -1  1     20672  models.common.Bottleneck                [64, 64]                      \n",
            "  3                -1  1     73984  models.common.Conv                      [64, 128, 3, 2]               \n",
            "  4                -1  2    164608  models.common.Bottleneck                [128, 128]                    \n",
            "  5                -1  1    295424  models.common.Conv                      [128, 256, 3, 2]              \n",
            "  6                -1  8   2627584  models.common.Bottleneck                [256, 256]                    \n",
            "  7                -1  1   1180672  models.common.Conv                      [256, 512, 3, 2]              \n",
            "  8                -1  8  10498048  models.common.Bottleneck                [512, 512]                    \n",
            "  9                -1  1   4720640  models.common.Conv                      [512, 1024, 3, 2]             \n",
            " 10                -1  4  20983808  models.common.Bottleneck                [1024, 1024]                  \n",
            " 11                -1  1   5245952  models.common.Bottleneck                [1024, 1024, False]           \n",
            " 12                -1  1    525312  models.common.Conv                      [1024, 512, 1, 1]             \n",
            " 13                -1  1   4720640  models.common.Conv                      [512, 1024, 3, 1]             \n",
            " 14                -1  1    525312  models.common.Conv                      [1024, 512, 1, 1]             \n",
            " 15                -1  1   4720640  models.common.Conv                      [512, 1024, 3, 1]             \n",
            " 16                -2  1    131584  models.common.Conv                      [512, 256, 1, 1]              \n",
            " 17                -1  1         0  torch.nn.modules.upsampling.Upsample    [None, 2, 'nearest']          \n",
            " 18           [-1, 8]  1         0  models.common.Concat                    [1]                           \n",
            " 19                -1  1   1377792  models.common.Bottleneck                [768, 512, False]             \n",
            " 20                -1  1   1312256  models.common.Bottleneck                [512, 512, False]             \n",
            " 21                -1  1    131584  models.common.Conv                      [512, 256, 1, 1]              \n",
            " 22                -1  1   1180672  models.common.Conv                      [256, 512, 3, 1]              \n",
            " 23                -2  1     33024  models.common.Conv                      [256, 128, 1, 1]              \n",
            " 24                -1  1         0  torch.nn.modules.upsampling.Upsample    [None, 2, 'nearest']          \n",
            " 25           [-1, 6]  1         0  models.common.Concat                    [1]                           \n",
            " 26                -1  1    344832  models.common.Bottleneck                [384, 256, False]             \n",
            " 27                -1  2    656896  models.common.Bottleneck                [256, 256, False]             \n",
            " 28      [27, 22, 15]  1    457725  models.yolo.Detect                      [80, [[10, 13, 16, 30, 33, 23], [30, 61, 62, 45, 59, 119], [116, 90, 156, 198, 373, 326]], [256, 512, 1024]]\n",
            "Model summary: 262 layers, 61949149 parameters, 61949149 gradients, 156.6 GFLOPs\n",
            "\n",
            "Transferred 439/439 items from yolov3.pt\n",
            "\u001b[34m\u001b[1mAMP: \u001b[0mchecks passed ✅\n",
            "\u001b[34m\u001b[1moptimizer:\u001b[0m SGD(lr=0.01) with parameter groups 72 weight(decay=0.0), 75 weight(decay=0.0005), 75 bias\n",
            "\u001b[34m\u001b[1malbumentations: \u001b[0mBlur(p=0.01, blur_limit=(3, 7)), MedianBlur(p=0.01, blur_limit=(3, 7)), ToGray(p=0.01), CLAHE(p=0.01, clip_limit=(1, 4.0), tile_grid_size=(8, 8))\n",
            "\u001b[34m\u001b[1mtrain: \u001b[0mScanning /content/datasets/coco128/labels/train2017... 126 images, 2 backgrounds, 0 corrupt: 100% 128/128 [00:00<00:00, 1586.73it/s]\n",
            "\u001b[34m\u001b[1mtrain: \u001b[0mNew cache created: /content/datasets/coco128/labels/train2017.cache\n",
            "\u001b[34m\u001b[1mval: \u001b[0mScanning /content/datasets/coco128/labels/train2017.cache... 126 images, 2 backgrounds, 0 corrupt: 100% 128/128 [00:00<?, ?it/s]\n",
            "\n",
            "\u001b[34m\u001b[1mAutoAnchor: \u001b[0m4.27 anchors/target, 0.994 Best Possible Recall (BPR). Current anchors are a good fit to dataset ✅\n",
            "Plotting labels to runs/train/exp/labels.jpg... \n",
            "Image sizes 640 train, 640 val\n",
            "Using 2 dataloader workers\n",
            "Logging results to \u001b[1mruns/train/exp\u001b[0m\n",
            "Starting training for 3 epochs...\n",
            "\n",
            "      Epoch    GPU_mem   box_loss   obj_loss   cls_loss  Instances       Size\n",
            "        0/2      12.6G    0.03794    0.06143    0.01087        232        640: 100% 8/8 [00:10<00:00,  1.29s/it]\n",
            "                 Class     Images  Instances          P          R      mAP50   mAP50-95: 100% 4/4 [00:04<00:00,  1.19s/it]\n",
            "                   all        128        929      0.755      0.735      0.806      0.584\n",
            "\n",
            "      Epoch    GPU_mem   box_loss   obj_loss   cls_loss  Instances       Size\n",
            "        1/2      11.5G    0.03782    0.05834    0.01165        201        640: 100% 8/8 [00:02<00:00,  2.85it/s]\n",
            "                 Class     Images  Instances          P          R      mAP50   mAP50-95: 100% 4/4 [00:02<00:00,  1.36it/s]\n",
            "                   all        128        929      0.768       0.77      0.818      0.596\n",
            "\n",
            "      Epoch    GPU_mem   box_loss   obj_loss   cls_loss  Instances       Size\n",
            "        2/2      11.6G    0.03492    0.05415   0.009699        227        640: 100% 8/8 [00:03<00:00,  2.21it/s]\n",
            "                 Class     Images  Instances          P          R      mAP50   mAP50-95: 100% 4/4 [00:02<00:00,  1.57it/s]\n",
            "                   all        128        929      0.782      0.769      0.829       0.61\n",
            "\n",
            "3 epochs completed in 0.009 hours.\n",
            "Optimizer stripped from runs/train/exp/weights/last.pt, 124.4MB\n",
            "Optimizer stripped from runs/train/exp/weights/best.pt, 124.4MB\n",
            "\n",
            "Validating runs/train/exp/weights/best.pt...\n",
            "Fusing layers... \n",
            "Model summary: 190 layers, 61922845 parameters, 0 gradients, 155.9 GFLOPs\n",
            "                 Class     Images  Instances          P          R      mAP50   mAP50-95: 100% 4/4 [00:08<00:00,  2.18s/it]\n",
            "                   all        128        929      0.782       0.77      0.829       0.61\n",
            "                person        128        254      0.845      0.815      0.873      0.651\n",
            "               bicycle        128          6      0.796      0.654      0.707      0.472\n",
            "                   car        128         46      0.793      0.581      0.677       0.33\n",
            "            motorcycle        128          5      0.681          1      0.995      0.841\n",
            "              airplane        128          6      0.934          1      0.995      0.808\n",
            "                   bus        128          7          1      0.875      0.995      0.841\n",
            "                 train        128          3      0.867          1      0.995      0.743\n",
            "                 truck        128         12      0.714      0.626      0.709      0.507\n",
            "                  boat        128          6      0.747      0.495      0.616      0.429\n",
            "         traffic light        128         14      0.843      0.385      0.559      0.283\n",
            "             stop sign        128          2      0.749          1      0.995      0.847\n",
            "                 bench        128          9      0.889      0.667      0.824      0.417\n",
            "                  bird        128         16      0.963          1      0.995      0.702\n",
            "                   cat        128          4      0.859          1      0.995      0.921\n",
            "                   dog        128          9      0.778          1      0.995      0.772\n",
            "                 horse        128          2      0.658          1      0.995      0.623\n",
            "              elephant        128         17      0.984      0.941      0.947       0.81\n",
            "                  bear        128          1      0.658          1      0.995      0.995\n",
            "                 zebra        128          4      0.869          1      0.995      0.947\n",
            "               giraffe        128          9          1          1      0.995        0.8\n",
            "              backpack        128          6      0.907      0.667      0.761       0.52\n",
            "              umbrella        128         18      0.739      0.833      0.906       0.65\n",
            "               handbag        128         19      0.796      0.618      0.666      0.438\n",
            "                   tie        128          7      0.917      0.857      0.858      0.609\n",
            "              suitcase        128          4      0.599          1      0.995      0.675\n",
            "               frisbee        128          5      0.723        0.8       0.76      0.644\n",
            "                  skis        128          1      0.702          1      0.995      0.597\n",
            "             snowboard        128          7       0.85      0.812       0.91      0.681\n",
            "           sports ball        128          6      0.751      0.833      0.781      0.524\n",
            "                  kite        128         10      0.453        0.5      0.554       0.15\n",
            "          baseball bat        128          4       0.64        0.9      0.828      0.356\n",
            "        baseball glove        128          7      0.604      0.571        0.6      0.454\n",
            "            skateboard        128          5      0.648      0.745       0.77      0.394\n",
            "         tennis racket        128          7      0.731      0.714      0.718       0.36\n",
            "                bottle        128         18      0.743      0.803       0.74      0.511\n",
            "            wine glass        128         16      0.918       0.75      0.938      0.526\n",
            "                   cup        128         36      0.873      0.889      0.922      0.667\n",
            "                  fork        128          6          1      0.526      0.874       0.54\n",
            "                 knife        128         16      0.825       0.75      0.793      0.577\n",
            "                 spoon        128         22      0.656      0.545      0.604      0.433\n",
            "                  bowl        128         28      0.868       0.75      0.804      0.654\n",
            "                banana        128          1      0.719          1      0.995      0.895\n",
            "              sandwich        128          2      0.161      0.161      0.497      0.332\n",
            "                orange        128          4          1      0.475      0.995      0.747\n",
            "              broccoli        128         11      0.645      0.364      0.479      0.361\n",
            "                carrot        128         24      0.704      0.792      0.814      0.585\n",
            "               hot dog        128          2      0.567          1      0.828      0.828\n",
            "                 pizza        128          5      0.796          1      0.995      0.809\n",
            "                 donut        128         14      0.724          1      0.968      0.863\n",
            "                  cake        128          4      0.763          1      0.995      0.904\n",
            "                 chair        128         35      0.819      0.886      0.899      0.565\n",
            "                 couch        128          6          1      0.831      0.891      0.636\n",
            "          potted plant        128         14      0.907      0.929      0.929      0.598\n",
            "                   bed        128          3      0.576      0.485      0.641      0.543\n",
            "          dining table        128         13       0.84      0.615       0.69      0.417\n",
            "                toilet        128          2      0.716          1      0.995      0.896\n",
            "                    tv        128          2      0.738          1      0.995      0.846\n",
            "                laptop        128          3          1      0.493      0.806      0.468\n",
            "                 mouse        128          2      0.928        0.5      0.745        0.4\n",
            "                remote        128          8      0.867      0.625      0.712      0.584\n",
            "            cell phone        128          8      0.814      0.552      0.645      0.396\n",
            "             microwave        128          3      0.756          1      0.995       0.93\n",
            "                  oven        128          5      0.633        0.6        0.5      0.389\n",
            "                  sink        128          6      0.586        0.5      0.567      0.379\n",
            "          refrigerator        128          5      0.828        0.8      0.843      0.662\n",
            "                  book        128         29      0.549       0.31      0.438      0.226\n",
            "                 clock        128          9      0.774          1      0.995      0.813\n",
            "                  vase        128          2      0.739          1      0.995      0.995\n",
            "              scissors        128          1          1          0      0.497      0.149\n",
            "            teddy bear        128         21      0.947      0.849      0.923      0.663\n",
            "            toothbrush        128          5       0.83          1      0.995      0.723\n",
            "Results saved to \u001b[1mruns/train/exp\u001b[0m\n"
          ]
        }
      ]
    },
    {
      "cell_type": "markdown",
      "metadata": {
        "id": "MtQd5TmHMgxE"
      },
      "source": [
        "### wandb(weight and bias) 모듈을 설치\n",
        "* 먼저 Weight and Bias 웹사이트에 계정 생성 및 연계 후 train 작업이 필요할 수도 있음."
      ]
    },
    {
      "cell_type": "code",
      "metadata": {
        "id": "UKc9lL_oKCPJ"
      },
      "source": [
        "!pip install wandb"
      ],
      "execution_count": null,
      "outputs": []
    },
    {
      "cell_type": "code",
      "metadata": {
        "id": "2T2Hcsh1R5iB"
      },
      "source": [
        "%cd /content\n",
        "%cd yolov3\n",
        "!python train.py --img 640 --batch 16 --epochs 3 --data coco128.yaml --weights yolov3.pt --nosave --cache"
      ],
      "execution_count": null,
      "outputs": []
    },
    {
      "cell_type": "markdown",
      "metadata": {
        "id": "rNIrsZHI0_tz"
      },
      "source": [
        "### Dataset Config와 Weight 파일의 상대 경로, 절대 경로\n",
        "* train.py의 data option값으로 Dataset config yaml 파일을 지정할 수 있으며, 파일명만 입력할 경우는 yolov3/data 디렉토리 아래에서 해당 파일을 찾음. 절대 경로로 입력할 경우 해당 경로에서 찾음.\n",
        "* weights option의 경우 파일명만 입력할 경우 yolov3 디렉토리에서 해당 파일을 찾음. 해당 파일이 없을 경우 자동으로 해당 파일을 https://github.com/ultralytics/yolov3/releases 에서 Download 함. 절대 경로를 입력한 경우 해당 경로에서 파일을 찾되 파일이 없으면 해당 경로로 자동 Download함.\n",
        "* weights 파일은 yolov3.pt, yolov3-tiny.pt, yolov3-spp.pt"
      ]
    },
    {
      "cell_type": "code",
      "metadata": {
        "id": "fLfxF4g_3Zh-"
      },
      "source": [
        "%cd /content"
      ],
      "execution_count": null,
      "outputs": []
    },
    {
      "cell_type": "code",
      "metadata": {
        "trusted": true,
        "id": "wPnWKNXMSa5_"
      },
      "source": [
        "!cd yolov3; python train.py --img 640 --batch 16 --epochs 3 --data coco128.yaml --weights yolov3.pt --nosave --cache\n",
        "#!cd yolov3; python train.py --img 640 --batch 16 --epochs 3 --data coco128.yaml --weights '' --cfg yolov3.yaml --nosave --cache\n",
        "#!cd yolov3; python train.py --img 640 --batch 16 --epochs 3 --data coco128.yaml --weights yolov3-tiny.pt --nosave --cache\n",
        "#!cd yolov3;python train.py --img 640 --batch 16 --epochs 3 --data /content/coco128/coco128.yaml --weights /content/coco128/yolov3-tiny.pt --nosave --cache\n",
        "#!cd yolov3;python train.py --img 640 --batch 16 --epochs 3 --data coco128.yaml --weights yolov3-spp.pt --nosave --cache"
      ],
      "execution_count": null,
      "outputs": []
    },
    {
      "cell_type": "code",
      "metadata": {
        "id": "hZSXORZdEmvc"
      },
      "source": [
        "!cp /content/yolov3/data/coco128.yaml /content/coco128/coco128.yaml"
      ],
      "execution_count": null,
      "outputs": []
    },
    {
      "cell_type": "markdown",
      "metadata": {
        "id": "Rf1hUSV6Myw9"
      },
      "source": [
        "### COCO128 데이터 디렉토리를 변경후 학습 수행\n",
        "* /content/data 아래에 coco128 데이터 download 후 unzip\n",
        "* coco128 디렉토리가 변경되었으므로 coco128.yaml 데이터도 변경 적용."
      ]
    },
    {
      "cell_type": "code",
      "metadata": {
        "id": "wz37RavwxYE1"
      },
      "source": [
        "%cd /content\n",
        "!rm -rf /content/coco128"
      ],
      "execution_count": null,
      "outputs": []
    },
    {
      "cell_type": "code",
      "metadata": {
        "trusted": true,
        "id": "guG3eNgXSa56"
      },
      "source": [
        "# /content 디렉토리에 coco128.zip을 download하고 tmp.zip으로 이름 변경 후 압축 해제.\n",
        "torch.hub.download_url_to_file('https://github.com/ultralytics/yolov5/releases/download/v1.0/coco128.zip', 'tmp.zip')\n",
        "!unzip -q tmp.zip -d ./ && rm tmp.zip"
      ],
      "execution_count": null,
      "outputs": []
    },
    {
      "cell_type": "code",
      "metadata": {
        "id": "GD-azX0i2m-Y"
      },
      "source": [
        "# /content/data 디렉토리에 coco128.zip을 download하고 압축 해제\n",
        "!mkdir /content/data\n",
        "!wget -O /content/data/coco128.zip https://github.com/ultralytics/yolov5/releases/download/v1.0/coco128.zip\n",
        "!cd /content/data; unzip coco128.zip"
      ],
      "execution_count": null,
      "outputs": []
    },
    {
      "cell_type": "code",
      "metadata": {
        "collapsed": true,
        "jupyter": {
          "outputs_hidden": true
        },
        "trusted": true,
        "id": "b4hTenv2Sa59"
      },
      "source": [
        "!wget -O /content/data/coco128/coco128_renew.yaml https://raw.githubusercontent.com/chulminkw/DLCV/master/data/util/coco128_renew.yaml\n",
        "!cat /content/data/coco128/coco128_renew.yaml"
      ],
      "execution_count": null,
      "outputs": []
    },
    {
      "cell_type": "code",
      "metadata": {
        "id": "CZkk2f09xWDT"
      },
      "source": [
        "!cd /content/yolov3; python train.py --img 640 --batch 16 --epochs 3 --data /content/data/coco128/coco128_renew.yaml --weights yolov3.pt --nosave --cache"
      ],
      "execution_count": null,
      "outputs": []
    },
    {
      "cell_type": "markdown",
      "metadata": {
        "id": "mMrSquxNMDre"
      },
      "source": [
        "### labels 디렉토리명을 변경하고 수행."
      ]
    },
    {
      "cell_type": "code",
      "metadata": {
        "id": "r047cg90Sa6P"
      },
      "source": [
        "!mv /content/data/coco128/labels /content/data/coco128/labels_chg"
      ],
      "execution_count": null,
      "outputs": []
    },
    {
      "cell_type": "code",
      "metadata": {
        "id": "Ef12IcJkLtBY"
      },
      "source": [
        "!cd /content/yolov3; python train.py --img 640 --batch 16 --epochs 3 --data /content/data/coco128/coco128_renew.yaml --weights yolov3.pt --nosave --cache"
      ],
      "execution_count": null,
      "outputs": []
    },
    {
      "cell_type": "code",
      "metadata": {
        "id": "xLkIb95lL_Tz"
      },
      "source": [
        "# 다시 원복후 학습\n",
        "!mv /content/data/coco128/labels_chg /content/data/coco128/labels\n",
        "!cd /content/yolov3; python train.py --img 640 --batch 16 --epochs 3 --data /content/data/coco128/coco128_renew.yaml --weights yolov3.pt --nosave --cache"
      ],
      "execution_count": null,
      "outputs": []
    },
    {
      "cell_type": "code",
      "metadata": {
        "id": "JMCIGcG0Mp4c"
      },
      "source": [],
      "execution_count": null,
      "outputs": []
    }
  ]
}